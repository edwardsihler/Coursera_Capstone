{
 "cells": [
  {
   "cell_type": "markdown",
   "metadata": {},
   "source": [
    "# A food desert identification tool"
   ]
  },
  {
   "cell_type": "markdown",
   "metadata": {},
   "source": [
    "## Introduction / Business Problem: "
   ]
  },
  {
   "cell_type": "markdown",
   "metadata": {},
   "source": [
    "Identification of \"food deserts\" is vitial for a number of groups such as: \n",
    "1. The grocer looking to build a store\n",
    "2. Zoneing officals looking to locate a store to improve the local comunity \n",
    "3. Public health offices looking to improve conditions such as obecity amongst others.\n",
    "\n",
    "The problems of \"Food Deserts\" is well documented:\n",
    "* https://www.theguardian.com/society/2018/oct/12/more-than-a-million-uk-residents-live-in-food-deserts-says-study\n",
    "* https://en.wikipedia.org/wiki/Food_desert\n",
    "* https://www.smf.co.uk/publications/barriers-eating-healthily-uk/\n",
    "* https://www.mdpi.com/1660-4601/14/11/1290\n",
    "* https://journals.cdrs.columbia.edu/wp-content/uploads/sites/25/2016/10/120-237-1-PB.pdf\n",
    "\n",
    "While usualy thought of as problems food deserts also represent opportunites for grocerers \n",
    "\n",
    "While searches for food deserts are identified in cities like New York and Chicago but the research to identify these areas are time consuming and often the result of many man years work.\n",
    "\n",
    "In this project I will endevor to develope a tool using foursquare data, US census (2010) by zip code to identify food deserts, replicating the work below as a proof of concept.\n",
    "\n",
    "https://www.usccr.gov/pubs/docs/IL-FoodDeserts-2011.pdf\n",
    "\n",
    "Additionaly accepted definition of a food desert is lots of fast food with relatively few grocery stores but the population should also be included such that it is not just the ratio fast food to grocery stores but also the population that matters becuase only fast food in a airport with no fixed population is much less an issue than say a residential area where lack of access to affordable alternatives to fast food is important to community health.\n"
   ]
  },
  {
   "cell_type": "code",
   "execution_count": null,
   "metadata": {},
   "outputs": [],
   "source": []
  }
 ],
 "metadata": {
  "kernelspec": {
   "display_name": "Python 3",
   "language": "python",
   "name": "python3"
  },
  "language_info": {
   "codemirror_mode": {
    "name": "ipython",
    "version": 3
   },
   "file_extension": ".py",
   "mimetype": "text/x-python",
   "name": "python",
   "nbconvert_exporter": "python",
   "pygments_lexer": "ipython3",
   "version": "3.6.9"
  }
 },
 "nbformat": 4,
 "nbformat_minor": 4
}
